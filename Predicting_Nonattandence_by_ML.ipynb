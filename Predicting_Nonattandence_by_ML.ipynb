{
  "nbformat": 4,
  "nbformat_minor": 0,
  "metadata": {
    "colab": {
      "provenance": [],
      "authorship_tag": "ABX9TyNFpqym3KAEFSeAe6YjG1aQ",
      "include_colab_link": true
    },
    "kernelspec": {
      "name": "python3",
      "display_name": "Python 3"
    },
    "language_info": {
      "name": "python"
    }
  },
  "cells": [
    {
      "cell_type": "markdown",
      "metadata": {
        "id": "view-in-github",
        "colab_type": "text"
      },
      "source": [
        "<a href=\"https://colab.research.google.com/github/merve-kasap/Predicting_Nonattandance_by-ML/blob/main/Predicting_Nonattandence_by_ML.ipynb\" target=\"_parent\"><img src=\"https://colab.research.google.com/assets/colab-badge.svg\" alt=\"Open In Colab\"/></a>"
      ]
    },
    {
      "cell_type": "markdown",
      "source": [
        "# Background\n",
        "\n",
        "GoalZone is a fitness club chain in Canada.\n",
        "GoalZone offers a range of fitness classes in two capacities - 25 and 15.\n",
        "\n",
        "Some classes are always fully booked. However, fully booked classes often have a low attendance rate.\n",
        "\n",
        "**Goal**: **increase the number of spaces available for classes**. \n",
        "\n",
        "**How**: by predicting whether the member will attend the class or not.\n",
        "\n",
        "If GoalZone can predict a member **will not attend** the class, they can make another space\n",
        "available."
      ],
      "metadata": {
        "id": "A00H31F4-uPZ"
      }
    },
    {
      "cell_type": "code",
      "execution_count": null,
      "metadata": {
        "id": "wWg1_pnC8MOv"
      },
      "outputs": [],
      "source": [
        "import pandas as pd\n",
        "import matplotlib.pyplot as plt\n",
        "import matplotlib.style as style\n",
        "from matplotlib import rcParams\n",
        "import seaborn as sns\n",
        "import numpy as np"
      ]
    },
    {
      "cell_type": "code",
      "source": [
        "#Let's first read the data in and check how it looks like:\n",
        "df = pd.read_csv('https://s3.amazonaws.com/talent-assets.datacamp.com/fitness_class_2212.csv')\n",
        "df.head(6)"
      ],
      "metadata": {
        "colab": {
          "base_uri": "https://localhost:8080/",
          "height": 238
        },
        "id": "ydgSiJzN8l7m",
        "outputId": "742909c0-9ccb-4531-a10c-154b12d99ba4"
      },
      "execution_count": null,
      "outputs": [
        {
          "output_type": "execute_result",
          "data": {
            "text/plain": [
              "   booking_id  months_as_member  weight days_before day_of_week time  \\\n",
              "0           1                17   79.56           8         Wed   PM   \n",
              "1           2                10   79.01           2         Mon   AM   \n",
              "2           3                16   74.53          14         Sun   AM   \n",
              "3           4                 5   86.12          10         Fri   AM   \n",
              "4           5                15   69.29           8         Thu   AM   \n",
              "5           6                 7   93.33           2         Mon   AM   \n",
              "\n",
              "   category  attended  \n",
              "0  Strength         0  \n",
              "1      HIIT         0  \n",
              "2  Strength         0  \n",
              "3   Cycling         0  \n",
              "4      HIIT         0  \n",
              "5   Cycling         0  "
            ],
            "text/html": [
              "\n",
              "  <div id=\"df-73af4c45-2bc3-4603-8032-a4074f17bc20\">\n",
              "    <div class=\"colab-df-container\">\n",
              "      <div>\n",
              "<style scoped>\n",
              "    .dataframe tbody tr th:only-of-type {\n",
              "        vertical-align: middle;\n",
              "    }\n",
              "\n",
              "    .dataframe tbody tr th {\n",
              "        vertical-align: top;\n",
              "    }\n",
              "\n",
              "    .dataframe thead th {\n",
              "        text-align: right;\n",
              "    }\n",
              "</style>\n",
              "<table border=\"1\" class=\"dataframe\">\n",
              "  <thead>\n",
              "    <tr style=\"text-align: right;\">\n",
              "      <th></th>\n",
              "      <th>booking_id</th>\n",
              "      <th>months_as_member</th>\n",
              "      <th>weight</th>\n",
              "      <th>days_before</th>\n",
              "      <th>day_of_week</th>\n",
              "      <th>time</th>\n",
              "      <th>category</th>\n",
              "      <th>attended</th>\n",
              "    </tr>\n",
              "  </thead>\n",
              "  <tbody>\n",
              "    <tr>\n",
              "      <th>0</th>\n",
              "      <td>1</td>\n",
              "      <td>17</td>\n",
              "      <td>79.56</td>\n",
              "      <td>8</td>\n",
              "      <td>Wed</td>\n",
              "      <td>PM</td>\n",
              "      <td>Strength</td>\n",
              "      <td>0</td>\n",
              "    </tr>\n",
              "    <tr>\n",
              "      <th>1</th>\n",
              "      <td>2</td>\n",
              "      <td>10</td>\n",
              "      <td>79.01</td>\n",
              "      <td>2</td>\n",
              "      <td>Mon</td>\n",
              "      <td>AM</td>\n",
              "      <td>HIIT</td>\n",
              "      <td>0</td>\n",
              "    </tr>\n",
              "    <tr>\n",
              "      <th>2</th>\n",
              "      <td>3</td>\n",
              "      <td>16</td>\n",
              "      <td>74.53</td>\n",
              "      <td>14</td>\n",
              "      <td>Sun</td>\n",
              "      <td>AM</td>\n",
              "      <td>Strength</td>\n",
              "      <td>0</td>\n",
              "    </tr>\n",
              "    <tr>\n",
              "      <th>3</th>\n",
              "      <td>4</td>\n",
              "      <td>5</td>\n",
              "      <td>86.12</td>\n",
              "      <td>10</td>\n",
              "      <td>Fri</td>\n",
              "      <td>AM</td>\n",
              "      <td>Cycling</td>\n",
              "      <td>0</td>\n",
              "    </tr>\n",
              "    <tr>\n",
              "      <th>4</th>\n",
              "      <td>5</td>\n",
              "      <td>15</td>\n",
              "      <td>69.29</td>\n",
              "      <td>8</td>\n",
              "      <td>Thu</td>\n",
              "      <td>AM</td>\n",
              "      <td>HIIT</td>\n",
              "      <td>0</td>\n",
              "    </tr>\n",
              "    <tr>\n",
              "      <th>5</th>\n",
              "      <td>6</td>\n",
              "      <td>7</td>\n",
              "      <td>93.33</td>\n",
              "      <td>2</td>\n",
              "      <td>Mon</td>\n",
              "      <td>AM</td>\n",
              "      <td>Cycling</td>\n",
              "      <td>0</td>\n",
              "    </tr>\n",
              "  </tbody>\n",
              "</table>\n",
              "</div>\n",
              "      <button class=\"colab-df-convert\" onclick=\"convertToInteractive('df-73af4c45-2bc3-4603-8032-a4074f17bc20')\"\n",
              "              title=\"Convert this dataframe to an interactive table.\"\n",
              "              style=\"display:none;\">\n",
              "        \n",
              "  <svg xmlns=\"http://www.w3.org/2000/svg\" height=\"24px\"viewBox=\"0 0 24 24\"\n",
              "       width=\"24px\">\n",
              "    <path d=\"M0 0h24v24H0V0z\" fill=\"none\"/>\n",
              "    <path d=\"M18.56 5.44l.94 2.06.94-2.06 2.06-.94-2.06-.94-.94-2.06-.94 2.06-2.06.94zm-11 1L8.5 8.5l.94-2.06 2.06-.94-2.06-.94L8.5 2.5l-.94 2.06-2.06.94zm10 10l.94 2.06.94-2.06 2.06-.94-2.06-.94-.94-2.06-.94 2.06-2.06.94z\"/><path d=\"M17.41 7.96l-1.37-1.37c-.4-.4-.92-.59-1.43-.59-.52 0-1.04.2-1.43.59L10.3 9.45l-7.72 7.72c-.78.78-.78 2.05 0 2.83L4 21.41c.39.39.9.59 1.41.59.51 0 1.02-.2 1.41-.59l7.78-7.78 2.81-2.81c.8-.78.8-2.07 0-2.86zM5.41 20L4 18.59l7.72-7.72 1.47 1.35L5.41 20z\"/>\n",
              "  </svg>\n",
              "      </button>\n",
              "      \n",
              "  <style>\n",
              "    .colab-df-container {\n",
              "      display:flex;\n",
              "      flex-wrap:wrap;\n",
              "      gap: 12px;\n",
              "    }\n",
              "\n",
              "    .colab-df-convert {\n",
              "      background-color: #E8F0FE;\n",
              "      border: none;\n",
              "      border-radius: 50%;\n",
              "      cursor: pointer;\n",
              "      display: none;\n",
              "      fill: #1967D2;\n",
              "      height: 32px;\n",
              "      padding: 0 0 0 0;\n",
              "      width: 32px;\n",
              "    }\n",
              "\n",
              "    .colab-df-convert:hover {\n",
              "      background-color: #E2EBFA;\n",
              "      box-shadow: 0px 1px 2px rgba(60, 64, 67, 0.3), 0px 1px 3px 1px rgba(60, 64, 67, 0.15);\n",
              "      fill: #174EA6;\n",
              "    }\n",
              "\n",
              "    [theme=dark] .colab-df-convert {\n",
              "      background-color: #3B4455;\n",
              "      fill: #D2E3FC;\n",
              "    }\n",
              "\n",
              "    [theme=dark] .colab-df-convert:hover {\n",
              "      background-color: #434B5C;\n",
              "      box-shadow: 0px 1px 3px 1px rgba(0, 0, 0, 0.15);\n",
              "      filter: drop-shadow(0px 1px 2px rgba(0, 0, 0, 0.3));\n",
              "      fill: #FFFFFF;\n",
              "    }\n",
              "  </style>\n",
              "\n",
              "      <script>\n",
              "        const buttonEl =\n",
              "          document.querySelector('#df-73af4c45-2bc3-4603-8032-a4074f17bc20 button.colab-df-convert');\n",
              "        buttonEl.style.display =\n",
              "          google.colab.kernel.accessAllowed ? 'block' : 'none';\n",
              "\n",
              "        async function convertToInteractive(key) {\n",
              "          const element = document.querySelector('#df-73af4c45-2bc3-4603-8032-a4074f17bc20');\n",
              "          const dataTable =\n",
              "            await google.colab.kernel.invokeFunction('convertToInteractive',\n",
              "                                                     [key], {});\n",
              "          if (!dataTable) return;\n",
              "\n",
              "          const docLinkHtml = 'Like what you see? Visit the ' +\n",
              "            '<a target=\"_blank\" href=https://colab.research.google.com/notebooks/data_table.ipynb>data table notebook</a>'\n",
              "            + ' to learn more about interactive tables.';\n",
              "          element.innerHTML = '';\n",
              "          dataTable['output_type'] = 'display_data';\n",
              "          await google.colab.output.renderOutput(dataTable, element);\n",
              "          const docLink = document.createElement('div');\n",
              "          docLink.innerHTML = docLinkHtml;\n",
              "          element.appendChild(docLink);\n",
              "        }\n",
              "      </script>\n",
              "    </div>\n",
              "  </div>\n",
              "  "
            ]
          },
          "metadata": {},
          "execution_count": 2
        }
      ]
    },
    {
      "cell_type": "code",
      "source": [
        "#Let's look at dtype, columns and non-null values \n",
        "df.info()"
      ],
      "metadata": {
        "colab": {
          "base_uri": "https://localhost:8080/"
        },
        "id": "6LjduuKp_EES",
        "outputId": "3dc46909-4896-4dd7-80eb-ac1c2bfa030d"
      },
      "execution_count": null,
      "outputs": [
        {
          "output_type": "stream",
          "name": "stdout",
          "text": [
            "<class 'pandas.core.frame.DataFrame'>\n",
            "RangeIndex: 1500 entries, 0 to 1499\n",
            "Data columns (total 8 columns):\n",
            " #   Column            Non-Null Count  Dtype  \n",
            "---  ------            --------------  -----  \n",
            " 0   booking_id        1500 non-null   int64  \n",
            " 1   months_as_member  1500 non-null   int64  \n",
            " 2   weight            1480 non-null   float64\n",
            " 3   days_before       1500 non-null   object \n",
            " 4   day_of_week       1500 non-null   object \n",
            " 5   time              1500 non-null   object \n",
            " 6   category          1500 non-null   object \n",
            " 7   attended          1500 non-null   int64  \n",
            "dtypes: float64(1), int64(3), object(4)\n",
            "memory usage: 93.9+ KB\n"
          ]
        }
      ]
    },
    {
      "cell_type": "code",
      "source": [
        "#Let's look at the missing values\n",
        "df.isna().sum()"
      ],
      "metadata": {
        "colab": {
          "base_uri": "https://localhost:8080/"
        },
        "id": "Jx9CfX-H_Irm",
        "outputId": "e69b13fa-640e-4889-c961-9134a575328f"
      },
      "execution_count": null,
      "outputs": [
        {
          "output_type": "execute_result",
          "data": {
            "text/plain": [
              "booking_id           0\n",
              "months_as_member     0\n",
              "weight              20\n",
              "days_before          0\n",
              "day_of_week          0\n",
              "time                 0\n",
              "category             0\n",
              "attended             0\n",
              "dtype: int64"
            ]
          },
          "metadata": {},
          "execution_count": 4
        }
      ]
    },
    {
      "cell_type": "markdown",
      "source": [
        "# Preprocessing\n",
        "Let's check each variable to see if they match the table description:"
      ],
      "metadata": {
        "id": "eYT92KB5_HzG"
      }
    },
    {
      "cell_type": "code",
      "source": [
        "df.day_of_week.value_counts()"
      ],
      "metadata": {
        "colab": {
          "base_uri": "https://localhost:8080/"
        },
        "id": "FOvIZlJg_QeE",
        "outputId": "6a697fa9-0b40-4fd0-f8da-c0871a2f93a3"
      },
      "execution_count": null,
      "outputs": [
        {
          "output_type": "execute_result",
          "data": {
            "text/plain": [
              "Fri          279\n",
              "Thu          241\n",
              "Mon          218\n",
              "Sun          213\n",
              "Sat          202\n",
              "Tue          195\n",
              "Wed           81\n",
              "Wednesday     35\n",
              "Fri.          26\n",
              "Monday        10\n",
              "Name: day_of_week, dtype: int64"
            ]
          },
          "metadata": {},
          "execution_count": 5
        }
      ]
    },
    {
      "cell_type": "code",
      "source": [
        "df.day_of_week = df['day_of_week'].astype('str').str.replace(\"Fri.\", \"Fri\")\n",
        "df.day_of_week = df['day_of_week'].astype('str').str.replace(\"Wednesday\", \"Wed\")\n",
        "df.day_of_week = df['day_of_week'].astype('str').str.replace(\"Monday\", \"Mon\")\n",
        "df.day_of_week.value_counts()"
      ],
      "metadata": {
        "colab": {
          "base_uri": "https://localhost:8080/"
        },
        "id": "UDyQnuII8tQI",
        "outputId": "a090f830-ae27-45ba-83b8-ff2b339ac40b"
      },
      "execution_count": null,
      "outputs": [
        {
          "output_type": "stream",
          "name": "stderr",
          "text": [
            "<ipython-input-6-60867ce11284>:1: FutureWarning: The default value of regex will change from True to False in a future version.\n",
            "  df.day_of_week = df['day_of_week'].astype('str').str.replace(\"Fri.\", \"Fri\")\n"
          ]
        },
        {
          "output_type": "execute_result",
          "data": {
            "text/plain": [
              "Fri    305\n",
              "Thu    241\n",
              "Mon    228\n",
              "Sun    213\n",
              "Sat    202\n",
              "Tue    195\n",
              "Wed    116\n",
              "Name: day_of_week, dtype: int64"
            ]
          },
          "metadata": {},
          "execution_count": 6
        }
      ]
    },
    {
      "cell_type": "code",
      "source": [
        "df.days_before.value_counts()"
      ],
      "metadata": {
        "colab": {
          "base_uri": "https://localhost:8080/"
        },
        "id": "P2zdFlYB8xyj",
        "outputId": "cba806d4-57a4-44c8-ecde-3eb86d7c4d49"
      },
      "execution_count": null,
      "outputs": [
        {
          "output_type": "execute_result",
          "data": {
            "text/plain": [
              "10         293\n",
              "2          199\n",
              "8          194\n",
              "12         178\n",
              "14         172\n",
              "4          154\n",
              "6           70\n",
              "7           38\n",
              "3           31\n",
              "5           30\n",
              "11          26\n",
              "13          25\n",
              "15          24\n",
              "9           24\n",
              "1            9\n",
              "10 days      6\n",
              "14 days      3\n",
              "12 days      3\n",
              "6 days       3\n",
              "4 days       3\n",
              "16           3\n",
              "17           3\n",
              "20           1\n",
              "2 days       1\n",
              "5 days       1\n",
              "7 days       1\n",
              "8 days       1\n",
              "1 days       1\n",
              "3 days       1\n",
              "13 days      1\n",
              "29           1\n",
              "Name: days_before, dtype: int64"
            ]
          },
          "metadata": {},
          "execution_count": 7
        }
      ]
    },
    {
      "cell_type": "code",
      "source": [
        "df['days_before'] = df['days_before'].str.extract('(\\d+)', expand=False).astype(int)"
      ],
      "metadata": {
        "id": "f5jtvemT82st"
      },
      "execution_count": null,
      "outputs": []
    },
    {
      "cell_type": "code",
      "source": [
        "df.days_before.value_counts()"
      ],
      "metadata": {
        "colab": {
          "base_uri": "https://localhost:8080/"
        },
        "id": "XF1GbbIG850t",
        "outputId": "33b55619-1700-4b3e-c613-4d26faed6f51"
      },
      "execution_count": null,
      "outputs": [
        {
          "output_type": "execute_result",
          "data": {
            "text/plain": [
              "10    299\n",
              "2     200\n",
              "8     195\n",
              "12    181\n",
              "14    175\n",
              "4     157\n",
              "6      73\n",
              "7      39\n",
              "3      32\n",
              "5      31\n",
              "13     26\n",
              "11     26\n",
              "9      24\n",
              "15     24\n",
              "1      10\n",
              "16      3\n",
              "17      3\n",
              "20      1\n",
              "29      1\n",
              "Name: days_before, dtype: int64"
            ]
          },
          "metadata": {},
          "execution_count": 9
        }
      ]
    },
    {
      "cell_type": "code",
      "source": [
        "df.category.value_counts()"
      ],
      "metadata": {
        "colab": {
          "base_uri": "https://localhost:8080/"
        },
        "id": "CaC23CbV88tY",
        "outputId": "c2184ccc-9156-4e6c-e146-163e3e4e06c3"
      },
      "execution_count": null,
      "outputs": [
        {
          "output_type": "execute_result",
          "data": {
            "text/plain": [
              "HIIT        667\n",
              "Cycling     376\n",
              "Strength    233\n",
              "Yoga        135\n",
              "Aqua         76\n",
              "-            13\n",
              "Name: category, dtype: int64"
            ]
          },
          "metadata": {},
          "execution_count": 10
        }
      ]
    },
    {
      "cell_type": "code",
      "source": [
        "df.category= df.category.replace('-','unknown')"
      ],
      "metadata": {
        "id": "6pQPfdHj9AUr"
      },
      "execution_count": null,
      "outputs": []
    },
    {
      "cell_type": "code",
      "source": [
        "df.category.value_counts()"
      ],
      "metadata": {
        "colab": {
          "base_uri": "https://localhost:8080/"
        },
        "id": "L6-WjV6j9FLs",
        "outputId": "a1ef84fd-1489-4605-a3e4-996a64f60b3c"
      },
      "execution_count": null,
      "outputs": [
        {
          "output_type": "execute_result",
          "data": {
            "text/plain": [
              "HIIT        667\n",
              "Cycling     376\n",
              "Strength    233\n",
              "Yoga        135\n",
              "Aqua         76\n",
              "unknown      13\n",
              "Name: category, dtype: int64"
            ]
          },
          "metadata": {},
          "execution_count": 12
        }
      ]
    },
    {
      "cell_type": "code",
      "source": [
        "# It seems that there are missing values in weight column. Let's see how many:\n",
        "df['weight'].isna().sum()"
      ],
      "metadata": {
        "colab": {
          "base_uri": "https://localhost:8080/"
        },
        "id": "I7XPZG2z_ddz",
        "outputId": "04351eca-dc8a-4f12-fcdd-64859231c9d7"
      },
      "execution_count": null,
      "outputs": [
        {
          "output_type": "execute_result",
          "data": {
            "text/plain": [
              "20"
            ]
          },
          "metadata": {},
          "execution_count": 13
        }
      ]
    },
    {
      "cell_type": "code",
      "source": [
        "#Let's replace the missing values in weight column with the overall average weight.\n",
        "average = np.nanmean(df['weight'])\n",
        "print(average)"
      ],
      "metadata": {
        "colab": {
          "base_uri": "https://localhost:8080/"
        },
        "id": "gGbrl8yr9GU3",
        "outputId": "3e3ee593-fd32-4305-86f3-d8f39d11508f"
      },
      "execution_count": null,
      "outputs": [
        {
          "output_type": "stream",
          "name": "stdout",
          "text": [
            "82.61037837837839\n"
          ]
        }
      ]
    },
    {
      "cell_type": "code",
      "source": [
        "df = df.fillna(average)"
      ],
      "metadata": {
        "id": "5UFr2gz02mZV"
      },
      "execution_count": null,
      "outputs": []
    },
    {
      "cell_type": "code",
      "source": [
        "#Let's confirm that we replaced NaN with the average weight, i.e. on row 114:\n",
        "df.at[114,'weight']==average"
      ],
      "metadata": {
        "id": "eAeZjEN1DWUX"
      },
      "execution_count": null,
      "outputs": []
    },
    {
      "cell_type": "code",
      "source": [
        "df.isna().sum()"
      ],
      "metadata": {
        "colab": {
          "base_uri": "https://localhost:8080/"
        },
        "id": "ByfjPULs3E_X",
        "outputId": "cbd055e7-430e-43f8-a196-92358edc3627"
      },
      "execution_count": null,
      "outputs": [
        {
          "output_type": "execute_result",
          "data": {
            "text/plain": [
              "booking_id          0\n",
              "months_as_member    0\n",
              "weight              0\n",
              "days_before         0\n",
              "day_of_week         0\n",
              "time                0\n",
              "category            0\n",
              "attended            0\n",
              "dtype: int64"
            ]
          },
          "metadata": {},
          "execution_count": 16
        }
      ]
    },
    {
      "cell_type": "code",
      "source": [
        "#Let's convert attended to categorical variable:\n",
        "df.attended = df.attended.astype('category')"
      ],
      "metadata": {
        "id": "Pfhuq-sF_l1Y"
      },
      "execution_count": null,
      "outputs": []
    },
    {
      "cell_type": "code",
      "source": [
        "df.info()"
      ],
      "metadata": {
        "colab": {
          "base_uri": "https://localhost:8080/"
        },
        "id": "Ree2OgSI_oOu",
        "outputId": "1a0490a5-2de8-4274-f9d8-43a4aa4c6d65"
      },
      "execution_count": null,
      "outputs": [
        {
          "output_type": "stream",
          "name": "stdout",
          "text": [
            "<class 'pandas.core.frame.DataFrame'>\n",
            "RangeIndex: 1500 entries, 0 to 1499\n",
            "Data columns (total 8 columns):\n",
            " #   Column            Non-Null Count  Dtype   \n",
            "---  ------            --------------  -----   \n",
            " 0   booking_id        1500 non-null   int64   \n",
            " 1   months_as_member  1500 non-null   int64   \n",
            " 2   weight            1500 non-null   float64 \n",
            " 3   days_before       1500 non-null   int64   \n",
            " 4   day_of_week       1500 non-null   object  \n",
            " 5   time              1500 non-null   object  \n",
            " 6   category          1500 non-null   object  \n",
            " 7   attended          1500 non-null   category\n",
            "dtypes: category(1), float64(1), int64(3), object(3)\n",
            "memory usage: 83.7+ KB\n"
          ]
        }
      ]
    },
    {
      "cell_type": "markdown",
      "source": [
        "# Task 1 \n",
        "\n",
        "**For every column in the data:**\n",
        "\n",
        "**a. State whether the values match the description given in the table above.**\n",
        "\n",
        "1) There are missing values in <code>weight</code> column.\n",
        "\n",
        "2) <code>category</code> column has '-' for some values.\n",
        "    \n",
        "3) <code>day_of_week</code> column has inconsistent day labels.\n",
        "\n",
        "4) <code>days_before</code> column has inconsistent values such as '10' and '10 days'.\n",
        "    \n",
        "5) <code>attented</code> is supposed to be a categorical variable, but the datatype is integers.\n",
        "\n",
        "**b. State the number of missing values in the column.**\n",
        "\n",
        "There are 20 missing values in the <code>weight</code> column, 13 in the <code>category</code> column.\n",
        "\n",
        "**c. Describe what you did to make values match the description if they did not match.**\n",
        "\t\n",
        "1) I used np.nanmean() to calculate the overall average weight in the column excluding the missing values,and then replaced the missing values with the average weight as instructed.\n",
        "    \n",
        "2) I replaced '-' in <code>category</code> column with 'unknown'.\n",
        "    \n",
        "3) I extracted the word 'day' to make the values consistent in <code>days_before</code> column.\n",
        "    \n",
        "4) By using str.replace() I made the days of the week consistent, i.e. \"Mon\", \"Tue\", etc.\n",
        "\n",
        "5) I converted the <code>attended</code> column to categorical variable."
      ],
      "metadata": {
        "id": "NQ9rAEz-_sue"
      }
    },
    {
      "cell_type": "markdown",
      "source": [
        "# Task 2\n",
        "\n",
        "**Create a visualization that shows how many bookings attended the class. Use the\n",
        "visualization to:**\n",
        "\n",
        "**a. State which category of the variable attended has the most observations**\n",
        "\n",
        "Most observations are on 'not attended': 1046 did not attend the class (Fig.2a Attendance Count, blue bar). \n",
        "454 attended the classes (Fig.2a Attendance Countorange bar below).\n",
        "\n",
        "**b. Explain whether the observations are balanced across categories of the\n",
        "variable attended**\n",
        "\n",
        "By examining the bar plot Fig.2b Attendance by the Class Category below, we can see that:\n",
        "\n",
        "Observations are not balanced. For each category, nonattendance is higher than attendance.\n",
        "\n",
        "'HIIT' is the most signed-up (count=667) class category as can be seen in Fig. 2b, \n",
        "and also has the most nonattendance (count=454) as can be seen in Fig.2c."
      ],
      "metadata": {
        "id": "_hUvH_Xx_0Z9"
      }
    },
    {
      "cell_type": "code",
      "source": [
        "g = sns.countplot(data=df, x='attended')\n",
        "g.set_title('Fig.2a Attendance Count')\n",
        "plt.show()"
      ],
      "metadata": {
        "colab": {
          "base_uri": "https://localhost:8080/",
          "height": 295
        },
        "id": "4Y-zpZNW_xrw",
        "outputId": "96887274-b5aa-40df-cc9f-91ca93ac470e"
      },
      "execution_count": null,
      "outputs": [
        {
          "output_type": "display_data",
          "data": {
            "text/plain": [
              "<Figure size 432x288 with 1 Axes>"
            ],
            "image/png": "[encoded data removed]"
          },
          "metadata": {
            "needs_background": "light"
          }
        }
      ]
    },
    {
      "cell_type": "code",
      "source": [
        "pd.crosstab(df['category'],df['attended']).plot.bar(stacked=True)\n",
        "plt.title('Fig.2b Signed up member counts by the Class Category')"
      ],
      "metadata": {
        "colab": {
          "base_uri": "https://localhost:8080/",
          "height": 349
        },
        "id": "-rtBH05q_6p5",
        "outputId": "aa696e9a-76dc-43f6-99b0-ffab4f6c9fcd"
      },
      "execution_count": null,
      "outputs": [
        {
          "output_type": "execute_result",
          "data": {
            "text/plain": [
              "Text(0.5, 1.0, 'Fig.2b Signed up member counts by the Class Category')"
            ]
          },
          "metadata": {},
          "execution_count": 20
        },
        {
          "output_type": "display_data",
          "data": {
            "text/plain": [
              "<Figure size 432x288 with 1 Axes>"
            ],
            "image/png": "[encoded data removed]"
          },
          "metadata": {
            "needs_background": "light"
          }
        }
      ]
    },
    {
      "cell_type": "code",
      "source": [
        "g = sns.catplot(x='category', hue='attended', data=df, kind=\"count\")\n",
        "plt.title('Fig.2c Attendance by the Class Category')\n",
        "sns.color_palette(\"colorblind\")\n",
        "plt.show()"
      ],
      "metadata": {
        "colab": {
          "base_uri": "https://localhost:8080/",
          "height": 385
        },
        "id": "X26QH6vI_-Ka",
        "outputId": "4e1fb657-81bc-4544-d2b0-726f653340e9"
      },
      "execution_count": null,
      "outputs": [
        {
          "output_type": "display_data",
          "data": {
            "text/plain": [
              "<Figure size 413.25x360 with 1 Axes>"
            ],
            "image/png": "[encoded data removed]"
          },
          "metadata": {
            "needs_background": "light"
          }
        }
      ]
    },
    {
      "cell_type": "code",
      "source": [
        "df[\"attended\"].value_counts(normalize=True)"
      ],
      "metadata": {
        "colab": {
          "base_uri": "https://localhost:8080/"
        },
        "id": "fLaWsDVVAAGq",
        "outputId": "548ba659-97d4-4b56-d025-8c649ef10789"
      },
      "execution_count": null,
      "outputs": [
        {
          "output_type": "execute_result",
          "data": {
            "text/plain": [
              "0    0.697333\n",
              "1    0.302667\n",
              "Name: attended, dtype: float64"
            ]
          },
          "metadata": {},
          "execution_count": 22
        }
      ]
    },
    {
      "cell_type": "code",
      "source": [
        "df.groupby('category')['attended'].value_counts()"
      ],
      "metadata": {
        "colab": {
          "base_uri": "https://localhost:8080/"
        },
        "id": "thirXXtFAA8a",
        "outputId": "0436bd5d-241d-4a95-f389-0fa759486830"
      },
      "execution_count": null,
      "outputs": [
        {
          "output_type": "execute_result",
          "data": {
            "text/plain": [
              "category   \n",
              "Aqua      0     51\n",
              "          1     25\n",
              "Cycling   0    266\n",
              "          1    110\n",
              "HIIT      0    454\n",
              "          1    213\n",
              "Strength  0    171\n",
              "          1     62\n",
              "Yoga      0     93\n",
              "          1     42\n",
              "unknown   0     11\n",
              "          1      2\n",
              "Name: attended, dtype: int64"
            ]
          },
          "metadata": {},
          "execution_count": 23
        }
      ]
    },
    {
      "cell_type": "markdown",
      "source": [
        "# Task 3\n",
        "**Describe the distribution of the number of months as a member. Your answer must\n",
        "include a visualization that shows the distribution.**\n",
        "\n",
        "The histogram 'Fig.3a Distribution of months as a member' has a positively skewed distribution (long tail to the right). \n",
        "\n",
        "Most members of GoalZone have been members for 0-2 years.\n",
        "\n",
        "The duration of a member's membership in months varies across the category of fitness classes they attend (Fig.3b)."
      ],
      "metadata": {
        "id": "BBw1GKtXBIVf"
      }
    },
    {
      "cell_type": "code",
      "source": [
        "g= sns.distplot(df['months_as_member'])\n",
        "plt.title('Fig.3a Distribution of Months as a Member')\n",
        "plt.show()"
      ],
      "metadata": {
        "colab": {
          "base_uri": "https://localhost:8080/",
          "height": 352
        },
        "id": "gdbGGmPpAFV2",
        "outputId": "366dbc94-102a-4ff0-fc51-460324b1e6fa"
      },
      "execution_count": null,
      "outputs": [
        {
          "output_type": "stream",
          "name": "stderr",
          "text": [
            "/usr/local/lib/python3.8/dist-packages/seaborn/distributions.py:2619: FutureWarning: `distplot` is a deprecated function and will be removed in a future version. Please adapt your code to use either `displot` (a figure-level function with similar flexibility) or `histplot` (an axes-level function for histograms).\n",
            "  warnings.warn(msg, FutureWarning)\n"
          ]
        },
        {
          "output_type": "display_data",
          "data": {
            "text/plain": [
              "<Figure size 432x288 with 1 Axes>"
            ],
            "image/png": "[encoded data removed]"
          },
          "metadata": {
            "needs_background": "light"
          }
        }
      ]
    },
    {
      "cell_type": "code",
      "source": [
        "sns.boxplot(data=df, x='months_as_member', y='category')\n",
        "plt.title('Fig.3b Distribution of Months as a Member across Class Category')\n",
        "plt.show()"
      ],
      "metadata": {
        "colab": {
          "base_uri": "https://localhost:8080/",
          "height": 296
        },
        "id": "pTvz3xb4BM8W",
        "outputId": "7763d3c7-d9e0-415f-a993-bded397519e4"
      },
      "execution_count": null,
      "outputs": [
        {
          "output_type": "display_data",
          "data": {
            "text/plain": [
              "<Figure size 432x288 with 1 Axes>"
            ],
            "image/png": "[encoded data removed]"
          },
          "metadata": {
            "needs_background": "light"
          }
        }
      ]
    },
    {
      "cell_type": "markdown",
      "source": [
        "# Task 4\n",
        "**Describe the relationship between attendance and number of months as a member.\n",
        "Your answer must include a visualization to demonstrate the relationship.**\n",
        "\n",
        "When we look at the swarmplot in **Fig.4a**, there seems to be a positive relationship\n",
        "between attendance and number of months as a member.\n",
        "It appears that participants who have been members for longer tend to attend classes more. Below the figure, I calculated the point-biserial correlation coefficient which indicated a moderate positive association between the <code>months_as_member</code> and <code>attented</code>.\n",
        "    \n",
        "I wanted to see if this holds across different class categories, and plotted **Fig.4b & c**:\n",
        "\n",
        "- It seems that long-time members (40 to 150 mohtns) attend classes more compared to 0-40 months-long members. However, it is important to note here that 40-150 -month-long members constitute only 5% of members in this dataset.\n",
        "\n",
        "- If I take 20 months as a treshold (**Fig.4c**), members still seem to attend classes more (20-150 monhts as members constitute 21% of members in this dataset)."
      ],
      "metadata": {
        "id": "JfH-zAVABQkE"
      }
    },
    {
      "cell_type": "code",
      "source": [
        "g = sns.swarmplot(data = df, y='attended', x='months_as_member')\n",
        "plt.title('Fig.4a Attendance by months as a member')\n",
        "plt.show()"
      ],
      "metadata": {
        "colab": {
          "base_uri": "https://localhost:8080/",
          "height": 387
        },
        "id": "wPKkGiQkBRp8",
        "outputId": "a5ed2e75-189a-4b21-f884-41a506dfba76"
      },
      "execution_count": null,
      "outputs": [
        {
          "output_type": "stream",
          "name": "stderr",
          "text": [
            "/usr/local/lib/python3.8/dist-packages/seaborn/categorical.py:1296: UserWarning: 82.1% of the points cannot be placed; you may want to decrease the size of the markers or use stripplot.\n",
            "  warnings.warn(msg, UserWarning)\n",
            "/usr/local/lib/python3.8/dist-packages/seaborn/categorical.py:1296: UserWarning: 44.5% of the points cannot be placed; you may want to decrease the size of the markers or use stripplot.\n",
            "  warnings.warn(msg, UserWarning)\n"
          ]
        },
        {
          "output_type": "display_data",
          "data": {
            "text/plain": [
              "<Figure size 432x288 with 1 Axes>"
            ],
            "image/png": "[encoded data removed]"
          },
          "metadata": {
            "needs_background": "light"
          }
        }
      ]
    },
    {
      "cell_type": "code",
      "source": [
        "from scipy.stats import pointbiserialr\n",
        "\n",
        "# Calculate the point-biserial correlation coefficient\n",
        "r, p_value = pointbiserialr(df['months_as_member'], df['attended'])\n",
        "\n",
        "print(\"Point-biserial correlation coefficient:\", r)"
      ],
      "metadata": {
        "colab": {
          "base_uri": "https://localhost:8080/"
        },
        "id": "1-NbMcsKBVKs",
        "outputId": "5ff39335-0f83-4424-fd12-0972c38b70d0"
      },
      "execution_count": null,
      "outputs": [
        {
          "output_type": "stream",
          "name": "stdout",
          "text": [
            "Point-biserial correlation coefficient: 0.4855262232752622\n"
          ]
        }
      ]
    },
    {
      "cell_type": "markdown",
      "source": [
        "The point-biserial correlation coefficient is a measure of association between a continuous variable (in this case, months_as_member) and a binary variable (attended). Its value ranges between -1 and 1, where -1 indicates a perfect negative association, 0 indicates no association, and 1 indicates a perfect positive association. \n",
        "\n",
        "In this case, the point-biserial correlation coefficient is 0.533, indicating a moderate positive association between the months_as_member and attended columns."
      ],
      "metadata": {
        "id": "IaDQxh7OBWPW"
      }
    },
    {
      "cell_type": "code",
      "source": [
        "g = sns.swarmplot(data = df, y='category', x='months_as_member', hue='attended', alpha=0.8)\n",
        "plt.title('Fig.4b Attendance by months as a member')\n",
        "sns.color_palette(\"colorblind\")\n",
        "plt.show()"
      ],
      "metadata": {
        "colab": {
          "base_uri": "https://localhost:8080/",
          "height": 495
        },
        "id": "02E3Z9ESBYus",
        "outputId": "38d35aab-ed5e-4501-f64d-11fadb695b99"
      },
      "execution_count": null,
      "outputs": [
        {
          "output_type": "stream",
          "name": "stderr",
          "text": [
            "/usr/local/lib/python3.8/dist-packages/seaborn/categorical.py:1296: UserWarning: 70.8% of the points cannot be placed; you may want to decrease the size of the markers or use stripplot.\n",
            "  warnings.warn(msg, UserWarning)\n",
            "/usr/local/lib/python3.8/dist-packages/seaborn/categorical.py:1296: UserWarning: 84.9% of the points cannot be placed; you may want to decrease the size of the markers or use stripplot.\n",
            "  warnings.warn(msg, UserWarning)\n",
            "/usr/local/lib/python3.8/dist-packages/seaborn/categorical.py:1296: UserWarning: 78.2% of the points cannot be placed; you may want to decrease the size of the markers or use stripplot.\n",
            "  warnings.warn(msg, UserWarning)\n",
            "/usr/local/lib/python3.8/dist-packages/seaborn/categorical.py:1296: UserWarning: 48.1% of the points cannot be placed; you may want to decrease the size of the markers or use stripplot.\n",
            "  warnings.warn(msg, UserWarning)\n",
            "/usr/local/lib/python3.8/dist-packages/seaborn/categorical.py:1296: UserWarning: 32.9% of the points cannot be placed; you may want to decrease the size of the markers or use stripplot.\n",
            "  warnings.warn(msg, UserWarning)\n"
          ]
        },
        {
          "output_type": "display_data",
          "data": {
            "text/plain": [
              "<Figure size 432x288 with 1 Axes>"
            ],
            "image/png": "[encoded data removed]"
          },
          "metadata": {
            "needs_background": "light"
          }
        }
      ]
    },
    {
      "cell_type": "code",
      "source": [
        "g = sns.swarmplot(data = df, y='category', x='months_as_member', hue='attended', alpha=0.8)\n",
        "plt.xlim(20,150)\n",
        "plt.title('Fig.4c Attendance by months as a member')\n",
        "plt.show()"
      ],
      "metadata": {
        "colab": {
          "base_uri": "https://localhost:8080/",
          "height": 495
        },
        "id": "2OlaYYLYBcF7",
        "outputId": "9212f265-a0d0-41c4-a9be-3d9493389462"
      },
      "execution_count": null,
      "outputs": [
        {
          "output_type": "stream",
          "name": "stderr",
          "text": [
            "/usr/local/lib/python3.8/dist-packages/seaborn/categorical.py:1296: UserWarning: 70.8% of the points cannot be placed; you may want to decrease the size of the markers or use stripplot.\n",
            "  warnings.warn(msg, UserWarning)\n",
            "/usr/local/lib/python3.8/dist-packages/seaborn/categorical.py:1296: UserWarning: 84.9% of the points cannot be placed; you may want to decrease the size of the markers or use stripplot.\n",
            "  warnings.warn(msg, UserWarning)\n",
            "/usr/local/lib/python3.8/dist-packages/seaborn/categorical.py:1296: UserWarning: 78.2% of the points cannot be placed; you may want to decrease the size of the markers or use stripplot.\n",
            "  warnings.warn(msg, UserWarning)\n",
            "/usr/local/lib/python3.8/dist-packages/seaborn/categorical.py:1296: UserWarning: 48.1% of the points cannot be placed; you may want to decrease the size of the markers or use stripplot.\n",
            "  warnings.warn(msg, UserWarning)\n",
            "/usr/local/lib/python3.8/dist-packages/seaborn/categorical.py:1296: UserWarning: 32.9% of the points cannot be placed; you may want to decrease the size of the markers or use stripplot.\n",
            "  warnings.warn(msg, UserWarning)\n"
          ]
        },
        {
          "output_type": "display_data",
          "data": {
            "text/plain": [
              "<Figure size 432x288 with 1 Axes>"
            ],
            "image/png": "[encoded data removed]"
          },
          "metadata": {
            "needs_background": "light"
          }
        }
      ]
    },
    {
      "cell_type": "code",
      "source": [
        "#Let's look at the percentage of members who's been members for more than 20 months:\n",
        "print((df[['months_as_member']]>40).value_counts(normalize=True))"
      ],
      "metadata": {
        "colab": {
          "base_uri": "https://localhost:8080/"
        },
        "id": "46VQ3ZeZBeHe",
        "outputId": "f09bfd40-75c3-47af-bf71-d604ecc2bc74"
      },
      "execution_count": null,
      "outputs": [
        {
          "output_type": "stream",
          "name": "stdout",
          "text": [
            "months_as_member\n",
            "False               0.955333\n",
            "True                0.044667\n",
            "dtype: float64\n"
          ]
        }
      ]
    },
    {
      "cell_type": "code",
      "source": [
        "#Let's look at the percentage of members who's been members for more than 20 months:\n",
        "print((df[['months_as_member']]>20).value_counts(normalize=True))"
      ],
      "metadata": {
        "colab": {
          "base_uri": "https://localhost:8080/"
        },
        "id": "nRaW2ByFBg2G",
        "outputId": "4a728e87-e758-4b89-b6cd-3e2f309d3b35"
      },
      "execution_count": null,
      "outputs": [
        {
          "output_type": "stream",
          "name": "stdout",
          "text": [
            "months_as_member\n",
            "False               0.784\n",
            "True                0.216\n",
            "dtype: float64\n"
          ]
        }
      ]
    },
    {
      "cell_type": "markdown",
      "source": [
        "# Task 5\n",
        "**The business wants to predict whether members will attend using the data provided.\n",
        "State the type of machine learning problem that this is (regression/ classification/\n",
        "clustering).**\n",
        "\n",
        "Predicting whether members will attend a class or not is a **classification** task. \n",
        "\n",
        "For our binary classification task here: Dataset contains more zeros that correspond to \"nonattendance\" than instances corresponding to \"attended\". Specifically, out of 1500 class bookings, there are 1046 did not attend the class (70%), and 454 attended (30%) classes. </p>\n",
        "\n",
        "We can use logistic regression, decision trees, support vector machines (SVM), and random forest models for classification tasks.\n",
        "\n",
        "Let's start our machine learning modeling with a **Logistic Regression model** (a generalized linear model)."
      ],
      "metadata": {
        "id": "02x7Qk-VBjO_"
      }
    },
    {
      "cell_type": "markdown",
      "source": [
        "- We will split our data into train set and test set to prepare our data for two different phases of machine learning modeling: training and testing. \n",
        "\n",
        "- Also, features like <code>booking_id</code> won't be relevant for predicting class attendance. So, I will drop it to design our machine learning model with the best set of features. \n",
        "\n",
        "- We then select the categorical columns for encoding and create an instance of OneHotEncoder using sklearn.preprocessing.OneHotEncoder() method. \n",
        "\n",
        "- Next, we encode the categorical columns using fit_transform() method and create a new dataframe encoded_df. \n",
        "\n",
        "- We add the encoded columns to the original dataframe using pd.concat() method. \n",
        "\n",
        "- Finally, we split the encoded dataframe into train and test sets using train_test_split() method from sklearn.model_selection module."
      ],
      "metadata": {
        "id": "BhK4HvIxBleh"
      }
    },
    {
      "cell_type": "code",
      "source": [
        "from sklearn.model_selection import train_test_split\n",
        "from sklearn.preprocessing import OneHotEncoder\n",
        "\n",
        "# Drop the feature boking_id because we don't need it\n",
        "df = df.drop(['booking_id'], axis=1)\n",
        "\n",
        "# Select the categorical columns for encoding\n",
        "cat_cols = ['day_of_week', 'time', 'category']\n",
        "\n",
        "# Create an instance of OneHotEncoder\n",
        "ohe = OneHotEncoder(sparse=False)\n",
        "\n",
        "# Encode the categorical columns and create a new dataframe\n",
        "encoded_df = pd.DataFrame(ohe.fit_transform(df[cat_cols]))\n",
        "\n",
        "# Add the encoded columns to the original dataframe\n",
        "encoded_df.columns = ohe.get_feature_names_out(cat_cols)\n",
        "df = pd.concat([df, encoded_df], axis=1)\n",
        "\n",
        "# Split the dataframe into train and test sets\n",
        "X = df.drop(['day_of_week', 'time', 'category', 'attended'], axis=1)\n",
        "y = df['attended']\n",
        "X_train, X_test, y_train, y_test = train_test_split(X, y, test_size=0.33, random_state=307)"
      ],
      "metadata": {
        "colab": {
          "base_uri": "https://localhost:8080/"
        },
        "id": "m3U5gbrkBpN_",
        "outputId": "fb701ef5-7e88-4a7e-85d3-ef4bc1edfc3e"
      },
      "execution_count": null,
      "outputs": [
        {
          "output_type": "stream",
          "name": "stderr",
          "text": [
            "/usr/local/lib/python3.8/dist-packages/sklearn/preprocessing/_encoders.py:828: FutureWarning: `sparse` was renamed to `sparse_output` in version 1.2 and will be removed in 1.4. `sparse_output` is ignored unless you leave `sparse` to its default value.\n",
            "  warnings.warn(\n"
          ]
        }
      ]
    },
    {
      "cell_type": "markdown",
      "source": [
        "# Task 6\n",
        "Fit a baseline model to predict whether members will attend using the data provided.\n",
        "You must include your code"
      ],
      "metadata": {
        "id": "A13z5caCBskU"
      }
    },
    {
      "cell_type": "code",
      "source": [
        "# Import LogisticRegression\n",
        "from sklearn.linear_model import LogisticRegression\n",
        "\n",
        "# Instantiate a LogisticRegression classifier with default parameter values\n",
        "logreg = LogisticRegression(solver='lbfgs', max_iter=1000)\n",
        "\n",
        "# Fit logreg to the train set\n",
        "logreg.fit(X_train, y_train)"
      ],
      "metadata": {
        "colab": {
          "base_uri": "https://localhost:8080/",
          "height": 75
        },
        "id": "2uB59FMHBwfh",
        "outputId": "95501600-608f-418c-8c14-5544f661c228"
      },
      "execution_count": null,
      "outputs": [
        {
          "output_type": "execute_result",
          "data": {
            "text/plain": [
              "LogisticRegression(max_iter=1000)"
            ],
            "text/html": [
              "<style>#sk-container-id-1 {color: black;background-color: white;}#sk-container-id-1 pre{padding: 0;}#sk-container-id-1 div.sk-toggleable {background-color: white;}#sk-container-id-1 label.sk-toggleable__label {cursor: pointer;display: block;width: 100%;margin-bottom: 0;padding: 0.3em;box-sizing: border-box;text-align: center;}#sk-container-id-1 label.sk-toggleable__label-arrow:before {content: \"▸\";float: left;margin-right: 0.25em;color: #696969;}#sk-container-id-1 label.sk-toggleable__label-arrow:hover:before {color: black;}#sk-container-id-1 div.sk-estimator:hover label.sk-toggleable__label-arrow:before {color: black;}#sk-container-id-1 div.sk-toggleable__content {max-height: 0;max-width: 0;overflow: hidden;text-align: left;background-color: #f0f8ff;}#sk-container-id-1 div.sk-toggleable__content pre {margin: 0.2em;color: black;border-radius: 0.25em;background-color: #f0f8ff;}#sk-container-id-1 input.sk-toggleable__control:checked~div.sk-toggleable__content {max-height: 200px;max-width: 100%;overflow: auto;}#sk-container-id-1 input.sk-toggleable__control:checked~label.sk-toggleable__label-arrow:before {content: \"▾\";}#sk-container-id-1 div.sk-estimator input.sk-toggleable__control:checked~label.sk-toggleable__label {background-color: #d4ebff;}#sk-container-id-1 div.sk-label input.sk-toggleable__control:checked~label.sk-toggleable__label {background-color: #d4ebff;}#sk-container-id-1 input.sk-hidden--visually {border: 0;clip: rect(1px 1px 1px 1px);clip: rect(1px, 1px, 1px, 1px);height: 1px;margin: -1px;overflow: hidden;padding: 0;position: absolute;width: 1px;}#sk-container-id-1 div.sk-estimator {font-family: monospace;background-color: #f0f8ff;border: 1px dotted black;border-radius: 0.25em;box-sizing: border-box;margin-bottom: 0.5em;}#sk-container-id-1 div.sk-estimator:hover {background-color: #d4ebff;}#sk-container-id-1 div.sk-parallel-item::after {content: \"\";width: 100%;border-bottom: 1px solid gray;flex-grow: 1;}#sk-container-id-1 div.sk-label:hover label.sk-toggleable__label {background-color: #d4ebff;}#sk-container-id-1 div.sk-serial::before {content: \"\";position: absolute;border-left: 1px solid gray;box-sizing: border-box;top: 0;bottom: 0;left: 50%;z-index: 0;}#sk-container-id-1 div.sk-serial {display: flex;flex-direction: column;align-items: center;background-color: white;padding-right: 0.2em;padding-left: 0.2em;position: relative;}#sk-container-id-1 div.sk-item {position: relative;z-index: 1;}#sk-container-id-1 div.sk-parallel {display: flex;align-items: stretch;justify-content: center;background-color: white;position: relative;}#sk-container-id-1 div.sk-item::before, #sk-container-id-1 div.sk-parallel-item::before {content: \"\";position: absolute;border-left: 1px solid gray;box-sizing: border-box;top: 0;bottom: 0;left: 50%;z-index: -1;}#sk-container-id-1 div.sk-parallel-item {display: flex;flex-direction: column;z-index: 1;position: relative;background-color: white;}#sk-container-id-1 div.sk-parallel-item:first-child::after {align-self: flex-end;width: 50%;}#sk-container-id-1 div.sk-parallel-item:last-child::after {align-self: flex-start;width: 50%;}#sk-container-id-1 div.sk-parallel-item:only-child::after {width: 0;}#sk-container-id-1 div.sk-dashed-wrapped {border: 1px dashed gray;margin: 0 0.4em 0.5em 0.4em;box-sizing: border-box;padding-bottom: 0.4em;background-color: white;}#sk-container-id-1 div.sk-label label {font-family: monospace;font-weight: bold;display: inline-block;line-height: 1.2em;}#sk-container-id-1 div.sk-label-container {text-align: center;}#sk-container-id-1 div.sk-container {/* jupyter's `normalize.less` sets `[hidden] { display: none; }` but bootstrap.min.css set `[hidden] { display: none !important; }` so we also need the `!important` here to be able to override the default hidden behavior on the sphinx rendered scikit-learn.org. See: https://github.com/scikit-learn/scikit-learn/issues/21755 */display: inline-block !important;position: relative;}#sk-container-id-1 div.sk-text-repr-fallback {display: none;}</style><div id=\"sk-container-id-1\" class=\"sk-top-container\"><div class=\"sk-text-repr-fallback\"><pre>LogisticRegression(max_iter=1000)</pre><b>In a Jupyter environment, please rerun this cell to show the HTML representation or trust the notebook. <br />On GitHub, the HTML representation is unable to render, please try loading this page with nbviewer.org.</b></div><div class=\"sk-container\" hidden><div class=\"sk-item\"><div class=\"sk-estimator sk-toggleable\"><input class=\"sk-toggleable__control sk-hidden--visually\" id=\"sk-estimator-id-1\" type=\"checkbox\" checked><label for=\"sk-estimator-id-1\" class=\"sk-toggleable__label sk-toggleable__label-arrow\">LogisticRegression</label><div class=\"sk-toggleable__content\"><pre>LogisticRegression(max_iter=1000)</pre></div></div></div></div></div>"
            ]
          },
          "metadata": {},
          "execution_count": 33
        }
      ]
    },
    {
      "cell_type": "markdown",
      "source": [
        "# Task 7\n",
        "Fit a comparison model to predict whether members will attend using the data\n",
        "provided. You must include your code."
      ],
      "metadata": {
        "id": "oeye9SvpBxcU"
      }
    },
    {
      "cell_type": "code",
      "source": [
        "from sklearn.ensemble import RandomForestClassifier\n",
        "\n",
        "# Create an instance of RandomForestClassifier with default parameter values\n",
        "rfc = RandomForestClassifier()\n",
        "\n",
        "# Fit rfc to the train set\n",
        "rfc.fit(X_train, y_train)\n",
        "\n",
        "# Predict the class labels for the test set using the trained models\n",
        "y_pred_lr = logreg.predict(X_test)\n",
        "y_pred_rfc = rfc.predict(X_test)\n"
      ],
      "metadata": {
        "id": "buC0dfvPB0fn"
      },
      "execution_count": null,
      "outputs": []
    },
    {
      "cell_type": "markdown",
      "source": [
        "# Task 8\n",
        "**Explain why you chose the two models used in parts 6 and 7.**\n",
        "\n",
        "I first used Logistic regression to predict attendance because it is a suitable algorithm for binary classification tasks, where the dependent variable has only two possible outcomes (in this case, attendance or non-attendance). Logistic regression is a linear model. It assumes a linear relationship between the independent variables and the dependent variable(attended). In contrast, Random Forest Classifier is a non-linear model that can capture more complex relationships between the variables.\n",
        "\n",
        "Therefore, I chose to use a Random Forest Classifier next because it is an ensemble of decision trees, where each tree is trained on a random subset of the features and data. The final classification is based on the majority vote of all the individual decision trees. Random Forest Classifier can handle noisy data and avoid overfitting by combining multiple decision trees. It also provides feature importance scores, which can help to understand the relative importance of each feature."
      ],
      "metadata": {
        "id": "4-TzGHfgB2GH"
      }
    },
    {
      "cell_type": "markdown",
      "source": [
        "# Task 9\n",
        "**Compare the performance of the two models used in parts 6 and 7, using any method\n",
        "suitable. You must include your code.**"
      ],
      "metadata": {
        "id": "3GN11lajB8Sc"
      }
    },
    {
      "cell_type": "code",
      "source": [
        "# Calculate the accuracy score for both models\n",
        "acc_lr = logreg.score(X_test, y_test)\n",
        "acc_rfc = rfc.score(X_test, y_test)\n"
      ],
      "metadata": {
        "id": "2P5fIzSGB7Sm"
      },
      "execution_count": null,
      "outputs": []
    },
    {
      "cell_type": "code",
      "source": [
        "# Import confusion_matrix\n",
        "from sklearn.metrics import precision_score, confusion_matrix\n",
        "\n",
        "# Use logreg to predict instances from the test set and store it\n",
        "y_pred = logreg.predict(X_test)\n",
        "\n",
        "# Calculate the precision of the logistic regression model on the test set\n",
        "precision = precision_score(y_test, y_pred)\n",
        "print(\"Precision of logistic regression:\", precision)\n",
        "\n",
        "# Print the confusion matrix of the logreg model\n",
        "print(confusion_matrix(y_test, y_pred))"
      ],
      "metadata": {
        "colab": {
          "base_uri": "https://localhost:8080/"
        },
        "id": "75g1vY3XB_dX",
        "outputId": "4a0e93e8-d8f0-4d4e-fc86-ed4852374970"
      },
      "execution_count": null,
      "outputs": [
        {
          "output_type": "stream",
          "name": "stdout",
          "text": [
            "Precision of logistic regression: 0.7333333333333333\n",
            "[[317  24]\n",
            " [ 88  66]]\n"
          ]
        }
      ]
    },
    {
      "cell_type": "code",
      "source": [
        "# Get the confusion matrix for the random forest classifier\n",
        "cm_rfc = confusion_matrix(y_test, y_pred_rfc)\n",
        "print(confusion_matrix(y_test, y_pred_rfc))\n",
        "\n",
        "# Calculate precision for the random forest classifier\n",
        "precision_rfc = cm_rfc[1, 1] / (cm_rfc[1, 1] + cm_rfc[0, 1])\n",
        "\n",
        "print(\"Precision of random forest classifier: \", precision_rfc)"
      ],
      "metadata": {
        "colab": {
          "base_uri": "https://localhost:8080/"
        },
        "id": "Es8YHIytCCsd",
        "outputId": "a0067b05-3eda-4afb-c1c1-a527bd89facb"
      },
      "execution_count": null,
      "outputs": [
        {
          "output_type": "stream",
          "name": "stdout",
          "text": [
            "[[300  41]\n",
            " [ 74  80]]\n",
            "Precision of random forest classifier:  0.6611570247933884\n"
          ]
        }
      ]
    },
    {
      "cell_type": "code",
      "source": [
        "from sklearn.metrics import classification_report\n",
        "\n",
        "# Calculate classification report for logistic regression model\n",
        "lr_report = classification_report(y_test, y_pred_lr)\n",
        "\n",
        "# Print the classification report for logistic regression model\n",
        "print(\"Logistic Regression Classification Report:\")\n",
        "print(lr_report)\n",
        "\n",
        "# Calculate classification report for random forest model\n",
        "rfc_report = classification_report(y_test, y_pred_rfc)\n",
        "\n",
        "# Print the classification report for random forest model\n",
        "print(\"Random Forest Classification Report:\")\n",
        "print(rfc_report)"
      ],
      "metadata": {
        "colab": {
          "base_uri": "https://localhost:8080/"
        },
        "id": "_wnxfFbdCEtZ",
        "outputId": "101feeaf-e935-4c8f-cf88-99f957353299"
      },
      "execution_count": null,
      "outputs": [
        {
          "output_type": "stream",
          "name": "stdout",
          "text": [
            "Logistic Regression Classification Report:\n",
            "              precision    recall  f1-score   support\n",
            "\n",
            "           0       0.78      0.93      0.85       341\n",
            "           1       0.73      0.43      0.54       154\n",
            "\n",
            "    accuracy                           0.77       495\n",
            "   macro avg       0.76      0.68      0.70       495\n",
            "weighted avg       0.77      0.77      0.75       495\n",
            "\n",
            "Random Forest Classification Report:\n",
            "              precision    recall  f1-score   support\n",
            "\n",
            "           0       0.80      0.88      0.84       341\n",
            "           1       0.66      0.52      0.58       154\n",
            "\n",
            "    accuracy                           0.77       495\n",
            "   macro avg       0.73      0.70      0.71       495\n",
            "weighted avg       0.76      0.77      0.76       495\n",
            "\n"
          ]
        }
      ]
    },
    {
      "cell_type": "markdown",
      "source": [
        "# Task 10\n",
        "**Explain which model performs better and why.**\n",
        "\n",
        "Here our goal was to increase the number of spaces available for classes by predicting whether a member will attend the class or not. When we think that nonattendance is at 70%, predicting **nonattendance** becomes more important because if we can predict that a member is not going to attend a class, then the number of spaces available could be utilized for other members.\n",
        "\n",
        "We deployed two models: **1)** logistic regression classifier **2)** random forest classifier.  \n",
        "\n",
        "When we compare the two models, we can see that the logistic regression classifier has a slightly higher accuracy of 0.774 compared to the random forest classifier's accuracy of 0.747. However, the accuracy is not always the best metric for evaluating a model's performance, especially if the classes are imbalanced (70% nonattendance to 30% attendance here). \n",
        "\n",
        "Looking at classification reports for the logistic regression and random forest models, we can see that both models performed similarly well in terms of **precision** for class 0 (non-attendance), with precision scores of 0.78 for the logistic regression model and 0.79 for the random forest model.\n",
        "\n",
        "Both models also achieved **high recall scores** for class 0 (the model's ability to correctly identify nonattendance), with recall scores of 0.93 for the logistic regression model and 0.87 for the random forest model.\n",
        "\n",
        "In terms of **F1-score** for class 0 (a measure of the overall performance of the classifier, taking into account both precision and recall), the logistic regression model achieved a slightly higher score of 0.85 compared to 0.83 for the random forest model.\n",
        "\n",
        "Therefore, both models seem to be performing relatively well in identifying individuals who will not attend the fitness class (class 0). However, the logistic regression model performed slightly better in terms of F1-score for class 0. If the main goal is to identify as many nonattendees as possible, then the logistic regression model might be preferred as it has higher recall for nonattendence. However, if the main goal is to make sure that the predicted nonattendees are actually **not** going to attend, then the random forest model might be preferred as it has higher precision for nonattendance.\n",
        "\n",
        "It is also important to note here that, the logistic regression model performed better in terms of precision for class 1 (attendance). The random forest model achieved a precision score of 0.63 for class 1, while the logistic regression model achieved a higher precision score of 0.73 for class 1.\n",
        "\n",
        "The choice of the better model would depend on the specific requirements of the problem. If the main goal is to identify as many attendees as possible, then the random forest regression model might be preferred as it has higher recall for class 1. However, if the main goal is to make sure that the predicted attendees are actually going to attend, then the logistic regression model might be preferred as it has higher precision for class 1."
      ],
      "metadata": {
        "id": "oaZ_lHpJCGN8"
      }
    }
  ]
}